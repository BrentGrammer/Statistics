{
 "cells": [
  {
   "cell_type": "markdown",
   "metadata": {},
   "source": [
    "# COURSE: Master statistics and machine learning: Intuition, Math, code\n",
    "##### COURSE URL: udemy.com/course/statsml_x/?couponCode=202304 \n",
    "## SECTION: Correlation\n",
    "### VIDEO: Partial correlations\n",
    "#### TEACHER: Mike X Cohen, sincxpress.com"
   ]
  },
  {
   "cell_type": "code",
   "execution_count": 2,
   "metadata": {},
   "outputs": [],
   "source": [
    "# import libraries\n",
    "import matplotlib.pyplot as plt\n",
    "import numpy as np\n",
    "import pandas as pd\n",
    "import scipy.stats as stats"
   ]
  },
  {
   "cell_type": "code",
   "execution_count": 3,
   "metadata": {},
   "outputs": [],
   "source": [
    "# I'm using pingouin for partial correlations.\n",
    "# You might need to install it, e.g., using the line below.\n",
    "# This needs to be run only once per install.\n",
    "# conda install -c conda-forge pingouin\n",
    "import pingouin as pg"
   ]
  },
  {
   "cell_type": "code",
   "execution_count": 4,
   "metadata": {},
   "outputs": [
    {
     "name": "stdout",
     "output_type": "stream",
     "text": [
      "-0.07647191129018778\n",
      "0.5461186812727504\n"
     ]
    }
   ],
   "source": [
    "## the example from the video\n",
    "\n",
    "# raw correlations (fake example using students with scores from various backgrounds)\n",
    "rmg = .7 # raw correlation (r) between socio economic status and gmap test scores\n",
    "rsg = .8 \n",
    "rms = .9\n",
    "\n",
    "# partial correlations - we take the correlation we're interested in minus the product of the interested correlation and the variable we're controlling for/partialing out\n",
    "# the denominator is a normalization that involves the correlations we want to partial out.\n",
    "rho_mg_s = (rmg - rsg*rms) / ( np.sqrt(1-rsg**2)*np.sqrt(1-rms**2) ) # interested in rmg, partialing out rsg and rms\n",
    "rho_sg_m = (rsg - rmg*rms) / ( np.sqrt(1-rmg**2)*np.sqrt(1-rms**2) ) # interested in rsg, partialing out rmg and rms\n",
    "\n",
    "print(rho_mg_s)\n",
    "print(rho_sg_m)"
   ]
  },
  {
   "cell_type": "code",
   "execution_count": 5,
   "metadata": {},
   "outputs": [
    {
     "name": "stdout",
     "output_type": "stream",
     "text": [
      "          x1        x2        x3\n",
      "x1  1.000000  0.938328  0.945564\n",
      "x2  0.938328  1.000000  0.895804\n",
      "x3  0.945564  0.895804  1.000000\n",
      " \n",
      "0.9383281988780791\n",
      " \n",
      "          n         r         CI95%     p-val\n",
      "pearson  76  0.076026  [-0.15, 0.3]  0.516803\n"
     ]
    }
   ],
   "source": [
    "## now for datasets\n",
    "\n",
    "N = 76\n",
    "\n",
    "# correlated datasets - this imposes a strong correlation between x1 and x2 and between x1 and x3\n",
    "# note that x2 and x3 are not based on each other, but based on x1 - so that is why they might be correlated (not because of a direct relationship between themselves)\n",
    "# this would be like how the weather (x1) predicts for icecream consumtion and shark attacks (x2 and x3)\n",
    "x1 = np.linspace(1,10,N) + np.random.randn(N) # rando nums from 1 to 10 plus random noise\n",
    "x2 = x1 + np.random.randn(N) # same as above with other random noise\n",
    "x3 = x1 + np.random.randn(N) # same as above with other random noise\n",
    "\n",
    "# let's convert these data to a pandas frame\n",
    "df = pd.DataFrame()\n",
    "df['x1'] = x1\n",
    "df['x2'] = x2\n",
    "df['x3'] = x3\n",
    "\n",
    "# compute the \"raw\" correlation matrix (R) - produces a table to compare how x1/2/3 are correlated to each other\n",
    "cormatR = df.corr() # correlation matrix R\n",
    "print(cormatR)\n",
    "\n",
    "# print out one value\n",
    "print(' ')\n",
    "print(cormatR.values[1,0])\n",
    "\n",
    "# compute partial correlation using the pengouin module\n",
    "# covar (covary) is what we want to partial out (control for)\n",
    "pc = pg.partial_corr(df,x='x3',y='x2',covar='x1') # this removes any shared variance with x1 and computes partial r for x3 and x2\n",
    "print(' ')\n",
    "print(pc) # the r col is the partial correlation between x3 and x2 partialing out x1 (compare it to the table for x3 x2)\n",
    "# notice how the r value is much lower than the table correlation value - this is because the reason x2 and x3 were highly correlated in teh table is they were based on x1. \n",
    "# If we factor out x1 we have much lower partial r."
   ]
  },
  {
   "cell_type": "code",
   "execution_count": 13,
   "metadata": {},
   "outputs": [
    {
     "data": {
      "image/png": "[encoded data removed]",
      "text/plain": [
       "<Figure size 600x300 with 2 Axes>"
      ]
     },
     "metadata": {},
     "output_type": "display_data"
    }
   ],
   "source": [
    "## visualize the matrices\n",
    "\n",
    "fig,ax = plt.subplots(1,2,figsize=(6,3))\n",
    "\n",
    "# raw correlations matrix - left plot\n",
    "ax[0].imshow(cormatR.values,vmin=-1,vmax=1)\n",
    "ax[0].set_xticks(range(3))\n",
    "ax[0].set_yticks(range(3))\n",
    "\n",
    "# add text \n",
    "for i in range(3):\n",
    "    for j in range(3):\n",
    "        ax[0].text(i,j,np.round(cormatR.values[i,j],2), horizontalalignment='center')\n",
    "\n",
    "        \n",
    "        \n",
    "# partial correlations - right plot\n",
    "partialCorMat = df.pcorr()\n",
    "ax[1].imshow(partialCorMat.values,vmin=-1,vmax=1)\n",
    "ax[1].set_xticks(range(3))\n",
    "ax[1].set_yticks(range(3))\n",
    "\n",
    "# show the values as text in the grid squares\n",
    "for i in range(3):\n",
    "    for j in range(3):\n",
    "        # first two args are what coord in grid to put text\n",
    "        # the second arg is what text to display (partial rs here)\n",
    "        ax[1].text(i,j,np.round(partialCorMat.values[i,j],2), horizontalalignment='center')\n",
    "\n",
    "\n",
    "plt.show()"
   ]
  },
  {
   "cell_type": "code",
   "execution_count": null,
   "metadata": {},
   "outputs": [],
   "source": []
  }
 ],
 "metadata": {
  "kernelspec": {
   "display_name": "Python 3",
   "language": "python",
   "name": "python3"
  },
  "language_info": {
   "codemirror_mode": {
    "name": "ipython",
    "version": 3
   },
   "file_extension": ".py",
   "mimetype": "text/x-python",
   "name": "python",
   "nbconvert_exporter": "python",
   "pygments_lexer": "ipython3",
   "version": "3.10.13"
  }
 },
 "nbformat": 4,
 "nbformat_minor": 2
}
