{
 "cells": [
  {
   "cell_type": "markdown",
   "metadata": {},
   "source": [
    "# COURSE: Master statistics and machine learning: Intuition, Math, code\n",
    "##### COURSE URL: udemy.com/course/statsml_x/?couponCode=202304 \n",
    "## SECTION: ANOVA\n",
    "### VIDEO: One-way ANOVA (independent samples)\n",
    "#### TEACHER: Mike X Cohen, sincxpress.com"
   ]
  },
  {
   "cell_type": "code",
   "execution_count": 1,
   "metadata": {},
   "outputs": [
    {
     "name": "stderr",
     "output_type": "stream",
     "text": [
      "c:\\anaconda\\envs\\pytorch2023\\lib\\site-packages\\outdated\\utils.py:14: OutdatedPackageWarning: The package pingouin is out of date. Your version is 0.5.3, the latest is 0.5.4.\n",
      "Set the environment variable OUTDATED_IGNORE=1 to disable these warnings.\n",
      "  return warn(\n"
     ]
    }
   ],
   "source": [
    "# import libraries\n",
    "import numpy as np\n",
    "import matplotlib.pyplot as plt\n",
    "import pingouin as pg\n",
    "import pandas as pd"
   ]
  },
  {
   "cell_type": "code",
   "execution_count": 2,
   "metadata": {},
   "outputs": [],
   "source": [
    "## data parameters\n",
    "\n",
    "# 3 different groups with the following means:\n",
    "mean1 = 4\n",
    "mean2 = 3.8\n",
    "mean3 = 7\n",
    "\n",
    "# samples per group, data points in each group, illustrates code can handle different sample sizes\n",
    "N1 = 30\n",
    "N2 = 35\n",
    "N3 = 29\n",
    "\n",
    "# standard deviation (assume and use this across all groups)\n",
    "stdev = 2 # this is just arbitrary, you could make variance different for each group if you wanted\n"
   ]
  },
  {
   "cell_type": "code",
   "execution_count": 10,
   "metadata": {},
   "outputs": [
    {
     "data": {
      "text/html": [
       "<div>\n",
       "<style scoped>\n",
       "    .dataframe tbody tr th:only-of-type {\n",
       "        vertical-align: middle;\n",
       "    }\n",
       "\n",
       "    .dataframe tbody tr th {\n",
       "        vertical-align: top;\n",
       "    }\n",
       "\n",
       "    .dataframe thead th {\n",
       "        text-align: right;\n",
       "    }\n",
       "</style>\n",
       "<table border=\"1\" class=\"dataframe\">\n",
       "  <thead>\n",
       "    <tr style=\"text-align: right;\">\n",
       "      <th></th>\n",
       "      <th>TheData</th>\n",
       "      <th>Group</th>\n",
       "    </tr>\n",
       "  </thead>\n",
       "  <tbody>\n",
       "    <tr>\n",
       "      <th>0</th>\n",
       "      <td>5.557294</td>\n",
       "      <td>1</td>\n",
       "    </tr>\n",
       "    <tr>\n",
       "      <th>1</th>\n",
       "      <td>5.479974</td>\n",
       "      <td>1</td>\n",
       "    </tr>\n",
       "    <tr>\n",
       "      <th>2</th>\n",
       "      <td>4.017227</td>\n",
       "      <td>1</td>\n",
       "    </tr>\n",
       "    <tr>\n",
       "      <th>3</th>\n",
       "      <td>1.496745</td>\n",
       "      <td>1</td>\n",
       "    </tr>\n",
       "    <tr>\n",
       "      <th>4</th>\n",
       "      <td>7.214775</td>\n",
       "      <td>1</td>\n",
       "    </tr>\n",
       "    <tr>\n",
       "      <th>...</th>\n",
       "      <td>...</td>\n",
       "      <td>...</td>\n",
       "    </tr>\n",
       "    <tr>\n",
       "      <th>89</th>\n",
       "      <td>11.861478</td>\n",
       "      <td>3</td>\n",
       "    </tr>\n",
       "    <tr>\n",
       "      <th>90</th>\n",
       "      <td>8.848169</td>\n",
       "      <td>3</td>\n",
       "    </tr>\n",
       "    <tr>\n",
       "      <th>91</th>\n",
       "      <td>7.050171</td>\n",
       "      <td>3</td>\n",
       "    </tr>\n",
       "    <tr>\n",
       "      <th>92</th>\n",
       "      <td>7.033148</td>\n",
       "      <td>3</td>\n",
       "    </tr>\n",
       "    <tr>\n",
       "      <th>93</th>\n",
       "      <td>8.648008</td>\n",
       "      <td>3</td>\n",
       "    </tr>\n",
       "  </tbody>\n",
       "</table>\n",
       "<p>94 rows × 2 columns</p>\n",
       "</div>"
      ],
      "text/plain": [
       "      TheData Group\n",
       "0    5.557294     1\n",
       "1    5.479974     1\n",
       "2    4.017227     1\n",
       "3    1.496745     1\n",
       "4    7.214775     1\n",
       "..        ...   ...\n",
       "89  11.861478     3\n",
       "90   8.848169     3\n",
       "91   7.050171     3\n",
       "92   7.033148     3\n",
       "93   8.648008     3\n",
       "\n",
       "[94 rows x 2 columns]"
      ]
     },
     "execution_count": 10,
     "metadata": {},
     "output_type": "execute_result"
    }
   ],
   "source": [
    "## now to simulate the data\n",
    "# normally distributed nums stretched to the std dev and shifted according to the mean\n",
    "data1 = mean1 + np.random.randn(N1)*stdev \n",
    "data2 = mean2 + np.random.randn(N2)*stdev\n",
    "data3 = mean3 + np.random.randn(N3)*stdev\n",
    "\n",
    "arr1 = np.array([1,2,3])\n",
    "arr2 = np.array([4,5,6])\n",
    "stacked = np.hstack((arr1,arr2))\n",
    "\n",
    "\n",
    "# horizontally stack (hstack) the above into one long vector (can plug into one col in below dataframe that way)\n",
    "datacolumn = np.hstack((data1,data2,data3)) # hstack spreads the arrays side by side into one big array\n",
    "\n",
    "# group labels\n",
    "groups = ['1']*N1 + ['2']*N2 + ['3']*N3 # repeats the number 1 N1 times, 2 N2 times etc.\n",
    "# this will make the group number line up with the number of rows for it\n",
    "\n",
    "# convert to a pandas dataframe - with two cols: TheData and Group\n",
    "df = pd.DataFrame({'TheData':datacolumn,'Group':groups})\n",
    "df"
   ]
  },
  {
   "cell_type": "code",
   "execution_count": 11,
   "metadata": {},
   "outputs": [
    {
     "data": {
      "text/html": [
       "<div>\n",
       "<style scoped>\n",
       "    .dataframe tbody tr th:only-of-type {\n",
       "        vertical-align: middle;\n",
       "    }\n",
       "\n",
       "    .dataframe tbody tr th {\n",
       "        vertical-align: top;\n",
       "    }\n",
       "\n",
       "    .dataframe thead th {\n",
       "        text-align: right;\n",
       "    }\n",
       "</style>\n",
       "<table border=\"1\" class=\"dataframe\">\n",
       "  <thead>\n",
       "    <tr style=\"text-align: right;\">\n",
       "      <th></th>\n",
       "      <th>Source</th>\n",
       "      <th>ddof1</th>\n",
       "      <th>ddof2</th>\n",
       "      <th>F</th>\n",
       "      <th>p-unc</th>\n",
       "      <th>np2</th>\n",
       "    </tr>\n",
       "  </thead>\n",
       "  <tbody>\n",
       "    <tr>\n",
       "      <th>0</th>\n",
       "      <td>Group</td>\n",
       "      <td>2</td>\n",
       "      <td>91</td>\n",
       "      <td>30.51628</td>\n",
       "      <td>7.215519e-11</td>\n",
       "      <td>0.401444</td>\n",
       "    </tr>\n",
       "  </tbody>\n",
       "</table>\n",
       "</div>"
      ],
      "text/plain": [
       "  Source  ddof1  ddof2         F         p-unc       np2\n",
       "0  Group      2     91  30.51628  7.215519e-11  0.401444"
      ]
     },
     "execution_count": 11,
     "metadata": {},
     "output_type": "execute_result"
    }
   ],
   "source": [
    "# use anova from pengouin package. \n",
    "# the data comes from the dataframe - specify the dependent variable dv as the data col\n",
    "# the between groups factor is the Group col in above dataframe  \n",
    "pg.anova(data=df,dv='TheData',between='Group') # note: shows a condensed version of the anova table\n",
    "\n",
    "# this shows the Source as Group Effect - the Between Groups Effect\n",
    "# ddof1 is 2 because we have 3 conditions (3-1 for the numerator gives us 2)\n",
    "# ddof2 or the denominator degrees of freedom is 91 because we have 94 subjects total and 3 groups (N-k)\n",
    "# "
   ]
  },
  {
   "cell_type": "code",
   "execution_count": 12,
   "metadata": {},
   "outputs": [
    {
     "data": {
      "text/html": [
       "<div>\n",
       "<style scoped>\n",
       "    .dataframe tbody tr th:only-of-type {\n",
       "        vertical-align: middle;\n",
       "    }\n",
       "\n",
       "    .dataframe tbody tr th {\n",
       "        vertical-align: top;\n",
       "    }\n",
       "\n",
       "    .dataframe thead th {\n",
       "        text-align: right;\n",
       "    }\n",
       "</style>\n",
       "<table border=\"1\" class=\"dataframe\">\n",
       "  <thead>\n",
       "    <tr style=\"text-align: right;\">\n",
       "      <th></th>\n",
       "      <th>A</th>\n",
       "      <th>B</th>\n",
       "      <th>mean(A)</th>\n",
       "      <th>mean(B)</th>\n",
       "      <th>diff</th>\n",
       "      <th>se</th>\n",
       "      <th>T</th>\n",
       "      <th>p-tukey</th>\n",
       "      <th>hedges</th>\n",
       "    </tr>\n",
       "  </thead>\n",
       "  <tbody>\n",
       "    <tr>\n",
       "      <th>0</th>\n",
       "      <td>1</td>\n",
       "      <td>2</td>\n",
       "      <td>3.450145</td>\n",
       "      <td>3.638560</td>\n",
       "      <td>-0.188415</td>\n",
       "      <td>0.549529</td>\n",
       "      <td>-0.342866</td>\n",
       "      <td>9.373017e-01</td>\n",
       "      <td>-0.082383</td>\n",
       "    </tr>\n",
       "    <tr>\n",
       "      <th>1</th>\n",
       "      <td>1</td>\n",
       "      <td>3</td>\n",
       "      <td>3.450145</td>\n",
       "      <td>7.401053</td>\n",
       "      <td>-3.950907</td>\n",
       "      <td>0.575168</td>\n",
       "      <td>-6.869131</td>\n",
       "      <td>2.332928e-09</td>\n",
       "      <td>-1.683527</td>\n",
       "    </tr>\n",
       "    <tr>\n",
       "      <th>2</th>\n",
       "      <td>2</td>\n",
       "      <td>3</td>\n",
       "      <td>3.638560</td>\n",
       "      <td>7.401053</td>\n",
       "      <td>-3.762492</td>\n",
       "      <td>0.554607</td>\n",
       "      <td>-6.784065</td>\n",
       "      <td>3.451476e-09</td>\n",
       "      <td>-1.813458</td>\n",
       "    </tr>\n",
       "  </tbody>\n",
       "</table>\n",
       "</div>"
      ],
      "text/plain": [
       "   A  B   mean(A)   mean(B)      diff        se         T       p-tukey  \\\n",
       "0  1  2  3.450145  3.638560 -0.188415  0.549529 -0.342866  9.373017e-01   \n",
       "1  1  3  3.450145  7.401053 -3.950907  0.575168 -6.869131  2.332928e-09   \n",
       "2  2  3  3.638560  7.401053 -3.762492  0.554607 -6.784065  3.451476e-09   \n",
       "\n",
       "     hedges  \n",
       "0 -0.082383  \n",
       "1 -1.683527  \n",
       "2 -1.813458  "
      ]
     },
     "execution_count": 12,
     "metadata": {},
     "output_type": "execute_result"
    }
   ],
   "source": [
    "pg.pairwise_tukey(data=df,dv='TheData',between='Group')"
   ]
  },
  {
   "cell_type": "code",
   "execution_count": 13,
   "metadata": {},
   "outputs": [
    {
     "data": {
      "text/plain": [
       "<Axes: title={'center': 'TheData'}, xlabel='Group'>"
      ]
     },
     "execution_count": 13,
     "metadata": {},
     "output_type": "execute_result"
    },
    {
     "data": {
      "image/png": "[encoded data removed]",
      "text/plain": [
       "<Figure size 640x480 with 1 Axes>"
      ]
     },
     "metadata": {},
     "output_type": "display_data"
    }
   ],
   "source": [
    "df.boxplot('TheData',by='Group') # datafrane box plot separated by group col - we pass in the df data col\n",
    "# you want to visualize the data after the anova.\n",
    "# shows how we simulated data - group 1 has mean of 4, group 2 has mean of 3.8, group 3 has mean of 7"
   ]
  },
  {
   "cell_type": "code",
   "execution_count": 14,
   "metadata": {},
   "outputs": [
    {
     "data": {
      "text/html": [
       "<div>\n",
       "<style scoped>\n",
       "    .dataframe tbody tr th:only-of-type {\n",
       "        vertical-align: middle;\n",
       "    }\n",
       "\n",
       "    .dataframe tbody tr th {\n",
       "        vertical-align: top;\n",
       "    }\n",
       "\n",
       "    .dataframe thead th {\n",
       "        text-align: right;\n",
       "    }\n",
       "</style>\n",
       "<table border=\"1\" class=\"dataframe\">\n",
       "  <thead>\n",
       "    <tr style=\"text-align: right;\">\n",
       "      <th></th>\n",
       "      <th>A</th>\n",
       "      <th>B</th>\n",
       "      <th>mean(A)</th>\n",
       "      <th>mean(B)</th>\n",
       "      <th>diff</th>\n",
       "      <th>se</th>\n",
       "      <th>T</th>\n",
       "      <th>p-tukey</th>\n",
       "      <th>hedges</th>\n",
       "    </tr>\n",
       "  </thead>\n",
       "  <tbody>\n",
       "    <tr>\n",
       "      <th>0</th>\n",
       "      <td>1</td>\n",
       "      <td>2</td>\n",
       "      <td>3.450145</td>\n",
       "      <td>3.638560</td>\n",
       "      <td>-0.188415</td>\n",
       "      <td>0.549529</td>\n",
       "      <td>-0.342866</td>\n",
       "      <td>9.373017e-01</td>\n",
       "      <td>-0.082383</td>\n",
       "    </tr>\n",
       "    <tr>\n",
       "      <th>1</th>\n",
       "      <td>1</td>\n",
       "      <td>3</td>\n",
       "      <td>3.450145</td>\n",
       "      <td>7.401053</td>\n",
       "      <td>-3.950907</td>\n",
       "      <td>0.575168</td>\n",
       "      <td>-6.869131</td>\n",
       "      <td>2.332928e-09</td>\n",
       "      <td>-1.683527</td>\n",
       "    </tr>\n",
       "    <tr>\n",
       "      <th>2</th>\n",
       "      <td>2</td>\n",
       "      <td>3</td>\n",
       "      <td>3.638560</td>\n",
       "      <td>7.401053</td>\n",
       "      <td>-3.762492</td>\n",
       "      <td>0.554607</td>\n",
       "      <td>-6.784065</td>\n",
       "      <td>3.451476e-09</td>\n",
       "      <td>-1.813458</td>\n",
       "    </tr>\n",
       "  </tbody>\n",
       "</table>\n",
       "</div>"
      ],
      "text/plain": [
       "   A  B   mean(A)   mean(B)      diff        se         T       p-tukey  \\\n",
       "0  1  2  3.450145  3.638560 -0.188415  0.549529 -0.342866  9.373017e-01   \n",
       "1  1  3  3.450145  7.401053 -3.950907  0.575168 -6.869131  2.332928e-09   \n",
       "2  2  3  3.638560  7.401053 -3.762492  0.554607 -6.784065  3.451476e-09   \n",
       "\n",
       "     hedges  \n",
       "0 -0.082383  \n",
       "1 -1.683527  \n",
       "2 -1.813458  "
      ]
     },
     "execution_count": 14,
     "metadata": {},
     "output_type": "execute_result"
    }
   ],
   "source": [
    "## Multiple Comparisons in 1way ANOVAs using Tukey test\n",
    "\n",
    "# use the pengouin pairwise_tukey function\n",
    "pg.pairwise_tukey(data=df,dv='TheData',between='Group')\n",
    "\n",
    "# the table will show rows corresponding to different comparisons and differences between each group to one another\n",
    "# the average of the two conditions/levels are mean(A) and mean(B)\n",
    "# The most important col is the p-tukey (p-value)\n",
    "  # Example if p-tukey is 0.24...(24%) in first row, it means groups 1 and 2 are not significantly different from each other \n",
    "  # if row 2 shows p-tukey as .001.. then this means groups 1 and 3 are significantly different from each other\n",
    "# note if the number has e-01 at the end it is scientific notation and means you move the decimal over one place to left - if e-3, move 3 places to left etc.\n",
    "# expected result is row one will have a higher p-value since groups 1 and 2 have very close means."
   ]
  },
  {
   "cell_type": "code",
   "execution_count": null,
   "metadata": {},
   "outputs": [],
   "source": []
  }
 ],
 "metadata": {
  "kernelspec": {
   "display_name": "Python 3",
   "language": "python",
   "name": "python3"
  },
  "language_info": {
   "codemirror_mode": {
    "name": "ipython",
    "version": 3
   },
   "file_extension": ".py",
   "mimetype": "text/x-python",
   "name": "python",
   "nbconvert_exporter": "python",
   "pygments_lexer": "ipython3",
   "version": "3.10.13"
  }
 },
 "nbformat": 4,
 "nbformat_minor": 2
}
